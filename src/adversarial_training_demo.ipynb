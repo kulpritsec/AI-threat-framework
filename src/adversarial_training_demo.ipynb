{
 "cells": [
  {
   "cell_type": "markdown",
   "id": "d66509f0",
   "metadata": {},
   "source": [
    "# Adversarial Training Defense Demo\n",
    "This notebook shows how to improve model robustness by incorporating adversarial examples during training."
   ]
  },
  {
   "cell_type": "code",
   "execution_count": 1,
   "id": "927b9666",
   "metadata": {},
   "outputs": [],
   "source": [
    "import tensorflow as tf\n",
    "import numpy as np\n",
    "import matplotlib.pyplot as plt\n",
    "\n",
    "# Load and preprocess MNIST\n",
    "(x_train, y_train), (x_test, y_test) = tf.keras.datasets.mnist.load_data()\n",
    "x_train = x_train.astype('float32') / 255.0\n",
    "x_test = x_test.astype('float32') / 255.0\n",
    "x_train = np.expand_dims(x_train, -1)\n",
    "x_test = np.expand_dims(x_test, -1)\n"
   ]
  },
  {
   "cell_type": "code",
   "execution_count": 2,
   "id": "825b8e20",
   "metadata": {},
   "outputs": [],
   "source": [
    "# Build a CNN model\n",
    "def create_model():\n",
    "    model = tf.keras.Sequential([\n",
    "        tf.keras.layers.Conv2D(32, (3,3), activation='relu', input_shape=(28,28,1)),\n",
    "        tf.keras.layers.MaxPooling2D((2,2)),\n",
    "        tf.keras.layers.Flatten(),\n",
    "        tf.keras.layers.Dense(64, activation='relu'),\n",
    "        tf.keras.layers.Dense(10, activation='softmax')\n",
    "    ])\n",
    "    model.compile(optimizer='adam',\n",
    "                  loss='sparse_categorical_crossentropy',\n",
    "                  metrics=['accuracy'])\n",
    "    return model\n"
   ]
  },
  {
   "cell_type": "code",
   "execution_count": 3,
   "id": "873e8f9b",
   "metadata": {},
   "outputs": [],
   "source": [
    "# Define FGSM attack function\n",
    "def fgsm_attack(model, image, label, epsilon=0.1):\n",
    "    image = tf.convert_to_tensor(image[None, ...])\n",
    "    label = tf.convert_to_tensor([label])\n",
    "\n",
    "    with tf.GradientTape() as tape:\n",
    "        tape.watch(image)\n",
    "        prediction = model(image)\n",
    "        loss = tf.keras.losses.sparse_categorical_crossentropy(label, prediction)\n",
    "\n",
    "    gradient = tape.gradient(loss, image)\n",
    "    signed_grad = tf.sign(gradient)\n",
    "    adversarial = image + epsilon * signed_grad\n",
    "    return tf.clip_by_value(adversarial, 0, 1).numpy()[0]\n"
   ]
  },
  {
   "cell_type": "code",
   "execution_count": 4,
   "id": "9d4ff2e6",
   "metadata": {},
   "outputs": [],
   "source": [
    "# Generate adversarial training data\n",
    "def generate_adversarial_dataset(model, x_data, y_data, epsilon=0.1):\n",
    "    x_adv = np.array([fgsm_attack(model, x, y, epsilon) for x, y in zip(x_data, y_data)])\n",
    "    return x_adv, y_data\n"
   ]
  },
  {
   "cell_type": "code",
   "execution_count": 5,
   "id": "0f1c2a42",
   "metadata": {},
   "outputs": [
    {
     "name": "stderr",
     "output_type": "stream",
     "text": [
      "c:\\Users\\Seanw\\anaconda3\\Lib\\site-packages\\keras\\src\\layers\\convolutional\\base_conv.py:99: UserWarning: Do not pass an `input_shape`/`input_dim` argument to a layer. When using Sequential models, prefer using an `Input(shape)` object as the first layer in the model instead.\n",
      "  super().__init__(\n"
     ]
    }
   ],
   "source": [
    "# Train initial model for generating adversarial examples\n",
    "base_model = create_model()\n",
    "base_model.fit(x_train[:5000], y_train[:5000], epochs=3, verbose=0)\n",
    "\n",
    "# Create adversarial examples using FGSM\n",
    "x_adv, y_adv = generate_adversarial_dataset(base_model, x_train[:5000], y_train[:5000], epsilon=0.2)\n",
    "\n",
    "# Combine clean + adversarial data\n",
    "x_combined = np.concatenate([x_train[:5000], x_adv])\n",
    "y_combined = np.concatenate([y_train[:5000], y_adv])\n"
   ]
  },
  {
   "cell_type": "code",
   "execution_count": 6,
   "id": "f8f30b1e",
   "metadata": {},
   "outputs": [
    {
     "name": "stdout",
     "output_type": "stream",
     "text": [
      "Epoch 1/5\n",
      "\u001b[1m282/282\u001b[0m \u001b[32m━━━━━━━━━━━━━━━━━━━━\u001b[0m\u001b[37m\u001b[0m \u001b[1m2s\u001b[0m 4ms/step - accuracy: 0.7345 - loss: 0.8967 - val_accuracy: 0.9840 - val_loss: 0.0647\n",
      "Epoch 2/5\n",
      "\u001b[1m282/282\u001b[0m \u001b[32m━━━━━━━━━━━━━━━━━━━━\u001b[0m\u001b[37m\u001b[0m \u001b[1m1s\u001b[0m 4ms/step - accuracy: 0.9587 - loss: 0.1466 - val_accuracy: 0.9940 - val_loss: 0.0222\n",
      "Epoch 3/5\n",
      "\u001b[1m282/282\u001b[0m \u001b[32m━━━━━━━━━━━━━━━━━━━━\u001b[0m\u001b[37m\u001b[0m \u001b[1m1s\u001b[0m 4ms/step - accuracy: 0.9791 - loss: 0.0742 - val_accuracy: 0.9990 - val_loss: 0.0091\n",
      "Epoch 4/5\n",
      "\u001b[1m282/282\u001b[0m \u001b[32m━━━━━━━━━━━━━━━━━━━━\u001b[0m\u001b[37m\u001b[0m \u001b[1m1s\u001b[0m 4ms/step - accuracy: 0.9898 - loss: 0.0438 - val_accuracy: 1.0000 - val_loss: 0.0059\n",
      "Epoch 5/5\n",
      "\u001b[1m282/282\u001b[0m \u001b[32m━━━━━━━━━━━━━━━━━━━━\u001b[0m\u001b[37m\u001b[0m \u001b[1m1s\u001b[0m 4ms/step - accuracy: 0.9925 - loss: 0.0290 - val_accuracy: 1.0000 - val_loss: 0.0026\n"
     ]
    },
    {
     "data": {
      "text/plain": [
       "<keras.src.callbacks.history.History at 0x1f14fedf050>"
      ]
     },
     "execution_count": 6,
     "metadata": {},
     "output_type": "execute_result"
    }
   ],
   "source": [
    "# Train adversarially hardened model\n",
    "adv_model = create_model()\n",
    "adv_model.fit(x_combined, y_combined, epochs=5, validation_split=0.1)\n"
   ]
  },
  {
   "cell_type": "code",
   "execution_count": 7,
   "id": "a02ba9ea",
   "metadata": {},
   "outputs": [
    {
     "name": "stdout",
     "output_type": "stream",
     "text": [
      "Adversarially trained model accuracy on clean test set: 0.9636\n"
     ]
    }
   ],
   "source": [
    "# Evaluate robustness of hardened model\n",
    "adv_accuracy = adv_model.evaluate(x_test, y_test, verbose=0)[1]\n",
    "print(f\"Adversarially trained model accuracy on clean test set: {adv_accuracy:.4f}\")\n"
   ]
  }
 ],
 "metadata": {
  "kernelspec": {
   "display_name": "base",
   "language": "python",
   "name": "python3"
  },
  "language_info": {
   "codemirror_mode": {
    "name": "ipython",
    "version": 3
   },
   "file_extension": ".py",
   "mimetype": "text/x-python",
   "name": "python",
   "nbconvert_exporter": "python",
   "pygments_lexer": "ipython3",
   "version": "3.11.5"
  }
 },
 "nbformat": 4,
 "nbformat_minor": 5
}
