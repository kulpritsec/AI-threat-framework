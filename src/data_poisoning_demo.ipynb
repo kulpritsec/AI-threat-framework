{
 "cells": [
  {
   "cell_type": "markdown",
   "id": "609672e0",
   "metadata": {},
   "source": [
    "# Data Poisoning Attack Demo\n",
    "This notebook demonstrates a simple data poisoning attack by flipping labels in the training dataset to reduce model accuracy."
   ]
  },
  {
   "cell_type": "code",
   "execution_count": 1,
   "id": "4a5a4607",
   "metadata": {},
   "outputs": [],
   "source": [
    "import tensorflow as tf\n",
    "import numpy as np\n",
    "import matplotlib.pyplot as plt\n",
    "\n",
    "# Load MNIST dataset\n",
    "(x_train, y_train), (x_test, y_test) = tf.keras.datasets.mnist.load_data()\n",
    "x_train = x_train.astype('float32') / 255.0\n",
    "x_test = x_test.astype('float32') / 255.0\n",
    "\n",
    "x_train = np.expand_dims(x_train, -1)\n",
    "x_test = np.expand_dims(x_test, -1)\n"
   ]
  },
  {
   "cell_type": "code",
   "execution_count": 2,
   "id": "8fd0b97b",
   "metadata": {},
   "outputs": [],
   "source": [
    "# Simulate data poisoning by flipping labels (e.g., class '1' becomes '7')\n",
    "poisoned_y_train = y_train.copy()\n",
    "flip_map = {1: 7, 7: 1}  # flip 1 <-> 7\n",
    "for i in range(len(poisoned_y_train)):\n",
    "    if poisoned_y_train[i] in flip_map:\n",
    "        poisoned_y_train[i] = flip_map[poisoned_y_train[i]]\n"
   ]
  },
  {
   "cell_type": "code",
   "execution_count": 3,
   "id": "e0c2b128",
   "metadata": {},
   "outputs": [
    {
     "name": "stderr",
     "output_type": "stream",
     "text": [
      "c:\\Users\\Seanw\\anaconda3\\Lib\\site-packages\\keras\\src\\layers\\convolutional\\base_conv.py:99: UserWarning: Do not pass an `input_shape`/`input_dim` argument to a layer. When using Sequential models, prefer using an `Input(shape)` object as the first layer in the model instead.\n",
      "  super().__init__(\n"
     ]
    },
    {
     "name": "stdout",
     "output_type": "stream",
     "text": [
      "Epoch 1/3\n",
      "\u001b[1m1688/1688\u001b[0m \u001b[32m━━━━━━━━━━━━━━━━━━━━\u001b[0m\u001b[37m\u001b[0m \u001b[1m14s\u001b[0m 7ms/step - accuracy: 0.8925 - loss: 0.3505 - val_accuracy: 0.9828 - val_loss: 0.0672\n",
      "Epoch 2/3\n",
      "\u001b[1m1688/1688\u001b[0m \u001b[32m━━━━━━━━━━━━━━━━━━━━\u001b[0m\u001b[37m\u001b[0m \u001b[1m19s\u001b[0m 7ms/step - accuracy: 0.9812 - loss: 0.0623 - val_accuracy: 0.9860 - val_loss: 0.0533\n",
      "Epoch 3/3\n",
      "\u001b[1m1688/1688\u001b[0m \u001b[32m━━━━━━━━━━━━━━━━━━━━\u001b[0m\u001b[37m\u001b[0m \u001b[1m11s\u001b[0m 7ms/step - accuracy: 0.9864 - loss: 0.0437 - val_accuracy: 0.9842 - val_loss: 0.0580\n"
     ]
    },
    {
     "data": {
      "text/plain": [
       "<keras.src.callbacks.history.History at 0x143a853ee50>"
      ]
     },
     "execution_count": 3,
     "metadata": {},
     "output_type": "execute_result"
    }
   ],
   "source": [
    "# Define and compile CNN model\n",
    "def create_model():\n",
    "    model = tf.keras.Sequential([\n",
    "        tf.keras.layers.Conv2D(32, (3,3), activation='relu', input_shape=(28,28,1)),\n",
    "        tf.keras.layers.MaxPooling2D((2,2)),\n",
    "        tf.keras.layers.Flatten(),\n",
    "        tf.keras.layers.Dense(64, activation='relu'),\n",
    "        tf.keras.layers.Dense(10, activation='softmax')\n",
    "    ])\n",
    "    model.compile(optimizer='adam',\n",
    "                  loss='sparse_categorical_crossentropy',\n",
    "                  metrics=['accuracy'])\n",
    "    return model\n",
    "\n",
    "# Train clean model\n",
    "clean_model = create_model()\n",
    "clean_model.fit(x_train, y_train, epochs=3, validation_split=0.1)\n"
   ]
  },
  {
   "cell_type": "code",
   "execution_count": 4,
   "id": "1bb4ca8e",
   "metadata": {},
   "outputs": [
    {
     "name": "stdout",
     "output_type": "stream",
     "text": [
      "Epoch 1/3\n",
      "\u001b[1m1688/1688\u001b[0m \u001b[32m━━━━━━━━━━━━━━━━━━━━\u001b[0m\u001b[37m\u001b[0m \u001b[1m15s\u001b[0m 8ms/step - accuracy: 0.8947 - loss: 0.3612 - val_accuracy: 0.9763 - val_loss: 0.0766\n",
      "Epoch 2/3\n",
      "\u001b[1m1688/1688\u001b[0m \u001b[32m━━━━━━━━━━━━━━━━━━━━\u001b[0m\u001b[37m\u001b[0m \u001b[1m11s\u001b[0m 7ms/step - accuracy: 0.9815 - loss: 0.0619 - val_accuracy: 0.9840 - val_loss: 0.0609\n",
      "Epoch 3/3\n",
      "\u001b[1m1688/1688\u001b[0m \u001b[32m━━━━━━━━━━━━━━━━━━━━\u001b[0m\u001b[37m\u001b[0m \u001b[1m12s\u001b[0m 7ms/step - accuracy: 0.9872 - loss: 0.0417 - val_accuracy: 0.9860 - val_loss: 0.0540\n"
     ]
    },
    {
     "data": {
      "text/plain": [
       "<keras.src.callbacks.history.History at 0x143aa18e250>"
      ]
     },
     "execution_count": 4,
     "metadata": {},
     "output_type": "execute_result"
    }
   ],
   "source": [
    "# Train poisoned model\n",
    "poisoned_model = create_model()\n",
    "poisoned_model.fit(x_train, poisoned_y_train, epochs=3, validation_split=0.1)\n"
   ]
  },
  {
   "cell_type": "code",
   "execution_count": 5,
   "id": "323fe1eb",
   "metadata": {},
   "outputs": [
    {
     "name": "stdout",
     "output_type": "stream",
     "text": [
      "Clean model accuracy: 0.9825\n",
      "Poisoned model accuracy: 0.7695\n"
     ]
    }
   ],
   "source": [
    "# Evaluate both models\n",
    "clean_acc = clean_model.evaluate(x_test, y_test, verbose=0)[1]\n",
    "poisoned_acc = poisoned_model.evaluate(x_test, y_test, verbose=0)[1]\n",
    "\n",
    "print(f\"Clean model accuracy: {clean_acc:.4f}\")\n",
    "print(f\"Poisoned model accuracy: {poisoned_acc:.4f}\")\n"
   ]
  },
  {
   "cell_type": "code",
   "execution_count": 6,
   "id": "7b1d3cdd",
   "metadata": {},
   "outputs": [
    {
     "data": {
      "image/png": "[encoded data removed]",
      "text/plain": [
       "<Figure size 1200x300 with 5 Axes>"
      ]
     },
     "metadata": {},
     "output_type": "display_data"
    }
   ],
   "source": [
    "# Show a few flipped samples\n",
    "fig, axes = plt.subplots(1, 5, figsize=(12, 3))\n",
    "indices = np.where(y_train != poisoned_y_train)[0][:5]\n",
    "for ax, idx in zip(axes, indices):\n",
    "    ax.imshow(x_train[idx].squeeze(), cmap='gray')\n",
    "    ax.set_title(f\"Orig: {y_train[idx]} → Flip: {poisoned_y_train[idx]}\")\n",
    "    ax.axis('off')\n",
    "plt.tight_layout()\n",
    "plt.show()\n"
   ]
  }
 ],
 "metadata": {
  "kernelspec": {
   "display_name": "base",
   "language": "python",
   "name": "python3"
  },
  "language_info": {
   "codemirror_mode": {
    "name": "ipython",
    "version": 3
   },
   "file_extension": ".py",
   "mimetype": "text/x-python",
   "name": "python",
   "nbconvert_exporter": "python",
   "pygments_lexer": "ipython3",
   "version": "3.11.5"
  }
 },
 "nbformat": 4,
 "nbformat_minor": 5
}
